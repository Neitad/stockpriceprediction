{
  "nbformat": 4,
  "nbformat_minor": 0,
  "metadata": {
    "kernelspec": {
      "display_name": "Python 3",
      "language": "python",
      "name": "python3"
    },
    "language_info": {
      "codemirror_mode": {
        "name": "ipython",
        "version": 3
      },
      "file_extension": ".py",
      "mimetype": "text/x-python",
      "name": "python",
      "nbconvert_exporter": "python",
      "pygments_lexer": "ipython3",
      "version": "3.8.2"
    },
    "colab": {
      "name": "Update_dat.ipynb",
      "provenance": []
    }
  },
  "cells": [
    {
      "cell_type": "markdown",
      "metadata": {
        "id": "5sNJ2uHX2Cah",
        "colab_type": "text"
      },
      "source": [
        "Bước 1: Thêm những thư viện cần thiết"
      ]
    },
    {
      "cell_type": "code",
      "metadata": {
        "id": "nJh60jVh2Cak",
        "colab_type": "code",
        "colab": {}
      },
      "source": [
        "import pandas as pd\n",
        "import numpy as np\n",
        "import matplotlib.pyplot as plt\n",
        "from datetime import datetime as dt"
      ],
      "execution_count": null,
      "outputs": []
    },
    {
      "cell_type": "markdown",
      "metadata": {
        "id": "KdaokggN2Caz",
        "colab_type": "text"
      },
      "source": [
        "Bước 2: Đọc dữ liệu từ file .csv"
      ]
    },
    {
      "cell_type": "code",
      "metadata": {
        "id": "yjocuehx2Ca1",
        "colab_type": "code",
        "colab": {}
      },
      "source": [
        "markets=pd.read_csv(\"marketdata_sample.csv\")\n",
        "news=pd.read_csv(\"news_sample.csv\")"
      ],
      "execution_count": null,
      "outputs": []
    },
    {
      "cell_type": "markdown",
      "metadata": {
        "id": "zm52ScAS2CbA",
        "colab_type": "text"
      },
      "source": [
        "Bước 3: Thông tin của bộ dữ liệu"
      ]
    },
    {
      "cell_type": "code",
      "metadata": {
        "id": "V4Dl7j6F2CbB",
        "colab_type": "code",
        "colab": {
          "base_uri": "https://localhost:8080/",
          "height": 50
        },
        "outputId": "62ad3d1a-dfb1-4c90-dd10-84b645513512"
      },
      "source": [
        "#Market\n",
        "print(\"Markets sample: \",markets.shape[0])\n",
        "print(\"Markets feature: \",markets.shape[1])"
      ],
      "execution_count": null,
      "outputs": [
        {
          "output_type": "stream",
          "text": [
            "Markets sample:  100\n",
            "Markets feature:  16\n"
          ],
          "name": "stdout"
        }
      ]
    },
    {
      "cell_type": "code",
      "metadata": {
        "id": "llt6CDaF2CbM",
        "colab_type": "code",
        "colab": {},
        "outputId": "d561b3c1-c2de-4e0b-b2f8-b0d05cb3e9b3"
      },
      "source": [
        "print(\"\\t\\t\\t\\t\\t\\tFIVE FIRST SAMPLE\")\n",
        "markets.head()"
      ],
      "execution_count": null,
      "outputs": [
        {
          "output_type": "stream",
          "text": [
            "\t\t\t\t\t\tFIVE FIRST SAMPLE\n"
          ],
          "name": "stdout"
        },
        {
          "output_type": "execute_result",
          "data": {
            "text/html": [
              "<div>\n",
              "<style scoped>\n",
              "    .dataframe tbody tr th:only-of-type {\n",
              "        vertical-align: middle;\n",
              "    }\n",
              "\n",
              "    .dataframe tbody tr th {\n",
              "        vertical-align: top;\n",
              "    }\n",
              "\n",
              "    .dataframe thead th {\n",
              "        text-align: right;\n",
              "    }\n",
              "</style>\n",
              "<table border=\"1\" class=\"dataframe\">\n",
              "  <thead>\n",
              "    <tr style=\"text-align: right;\">\n",
              "      <th></th>\n",
              "      <th>time</th>\n",
              "      <th>assetCode</th>\n",
              "      <th>assetName</th>\n",
              "      <th>universe</th>\n",
              "      <th>volume</th>\n",
              "      <th>close</th>\n",
              "      <th>open</th>\n",
              "      <th>returnsClosePrevRaw1</th>\n",
              "      <th>returnsOpenPrevRaw1</th>\n",
              "      <th>returnsClosePrevMktres1</th>\n",
              "      <th>returnsOpenPrevMktres1</th>\n",
              "      <th>returnsClosePrevRaw10</th>\n",
              "      <th>returnsOpenPrevRaw10</th>\n",
              "      <th>returnsClosePrevMktres10</th>\n",
              "      <th>returnsOpenPrevMktres10</th>\n",
              "      <th>returnsOpenNextMktres10</th>\n",
              "    </tr>\n",
              "  </thead>\n",
              "  <tbody>\n",
              "    <tr>\n",
              "      <th>0</th>\n",
              "      <td>2007-01-02 22:00:00+00:00</td>\n",
              "      <td>2330.TW</td>\n",
              "      <td>Taiwan Semiconductor Manufacturing Co Ltd</td>\n",
              "      <td>0</td>\n",
              "      <td>251000</td>\n",
              "      <td>26.04</td>\n",
              "      <td>25.79</td>\n",
              "      <td>0.013624</td>\n",
              "      <td>0.006243</td>\n",
              "      <td>NaN</td>\n",
              "      <td>NaN</td>\n",
              "      <td>0.025197</td>\n",
              "      <td>0.013758</td>\n",
              "      <td>NaN</td>\n",
              "      <td>NaN</td>\n",
              "      <td>0.054497</td>\n",
              "    </tr>\n",
              "    <tr>\n",
              "      <th>1</th>\n",
              "      <td>2007-01-02 22:00:00+00:00</td>\n",
              "      <td>6758.T</td>\n",
              "      <td>Sony Corp</td>\n",
              "      <td>1</td>\n",
              "      <td>272700</td>\n",
              "      <td>19.99</td>\n",
              "      <td>19.91</td>\n",
              "      <td>0.011640</td>\n",
              "      <td>0.021026</td>\n",
              "      <td>NaN</td>\n",
              "      <td>NaN</td>\n",
              "      <td>0.004523</td>\n",
              "      <td>0.004541</td>\n",
              "      <td>NaN</td>\n",
              "      <td>NaN</td>\n",
              "      <td>-0.014691</td>\n",
              "    </tr>\n",
              "    <tr>\n",
              "      <th>2</th>\n",
              "      <td>2007-01-02 22:00:00+00:00</td>\n",
              "      <td>AAPL.O</td>\n",
              "      <td>Apple Inc</td>\n",
              "      <td>1</td>\n",
              "      <td>2801000</td>\n",
              "      <td>55.51</td>\n",
              "      <td>56.61</td>\n",
              "      <td>-0.011926</td>\n",
              "      <td>0.016520</td>\n",
              "      <td>NaN</td>\n",
              "      <td>NaN</td>\n",
              "      <td>0.050530</td>\n",
              "      <td>0.064698</td>\n",
              "      <td>NaN</td>\n",
              "      <td>NaN</td>\n",
              "      <td>0.013804</td>\n",
              "    </tr>\n",
              "    <tr>\n",
              "      <th>3</th>\n",
              "      <td>2007-01-02 22:00:00+00:00</td>\n",
              "      <td>ADBE.DE</td>\n",
              "      <td>Adobe Systems Inc</td>\n",
              "      <td>0</td>\n",
              "      <td>327400</td>\n",
              "      <td>79.25</td>\n",
              "      <td>78.50</td>\n",
              "      <td>0.016286</td>\n",
              "      <td>-0.001907</td>\n",
              "      <td>NaN</td>\n",
              "      <td>NaN</td>\n",
              "      <td>0.088449</td>\n",
              "      <td>0.081863</td>\n",
              "      <td>NaN</td>\n",
              "      <td>NaN</td>\n",
              "      <td>0.044098</td>\n",
              "    </tr>\n",
              "    <tr>\n",
              "      <th>4</th>\n",
              "      <td>2007-01-02 22:00:00+00:00</td>\n",
              "      <td>AIB.N</td>\n",
              "      <td>Allied Irish Banks PLC</td>\n",
              "      <td>1</td>\n",
              "      <td>473600</td>\n",
              "      <td>67.78</td>\n",
              "      <td>67.81</td>\n",
              "      <td>0.000886</td>\n",
              "      <td>0.019086</td>\n",
              "      <td>NaN</td>\n",
              "      <td>NaN</td>\n",
              "      <td>0.052321</td>\n",
              "      <td>0.041308</td>\n",
              "      <td>NaN</td>\n",
              "      <td>NaN</td>\n",
              "      <td>-0.012906</td>\n",
              "    </tr>\n",
              "  </tbody>\n",
              "</table>\n",
              "</div>"
            ],
            "text/plain": [
              "                        time assetCode  \\\n",
              "0  2007-01-02 22:00:00+00:00   2330.TW   \n",
              "1  2007-01-02 22:00:00+00:00    6758.T   \n",
              "2  2007-01-02 22:00:00+00:00    AAPL.O   \n",
              "3  2007-01-02 22:00:00+00:00   ADBE.DE   \n",
              "4  2007-01-02 22:00:00+00:00     AIB.N   \n",
              "\n",
              "                                   assetName  universe   volume  close   open  \\\n",
              "0  Taiwan Semiconductor Manufacturing Co Ltd         0   251000  26.04  25.79   \n",
              "1                                  Sony Corp         1   272700  19.99  19.91   \n",
              "2                                  Apple Inc         1  2801000  55.51  56.61   \n",
              "3                          Adobe Systems Inc         0   327400  79.25  78.50   \n",
              "4                     Allied Irish Banks PLC         1   473600  67.78  67.81   \n",
              "\n",
              "   returnsClosePrevRaw1  returnsOpenPrevRaw1  returnsClosePrevMktres1  \\\n",
              "0              0.013624             0.006243                      NaN   \n",
              "1              0.011640             0.021026                      NaN   \n",
              "2             -0.011926             0.016520                      NaN   \n",
              "3              0.016286            -0.001907                      NaN   \n",
              "4              0.000886             0.019086                      NaN   \n",
              "\n",
              "   returnsOpenPrevMktres1  returnsClosePrevRaw10  returnsOpenPrevRaw10  \\\n",
              "0                     NaN               0.025197              0.013758   \n",
              "1                     NaN               0.004523              0.004541   \n",
              "2                     NaN               0.050530              0.064698   \n",
              "3                     NaN               0.088449              0.081863   \n",
              "4                     NaN               0.052321              0.041308   \n",
              "\n",
              "   returnsClosePrevMktres10  returnsOpenPrevMktres10  returnsOpenNextMktres10  \n",
              "0                       NaN                      NaN                 0.054497  \n",
              "1                       NaN                      NaN                -0.014691  \n",
              "2                       NaN                      NaN                 0.013804  \n",
              "3                       NaN                      NaN                 0.044098  \n",
              "4                       NaN                      NaN                -0.012906  "
            ]
          },
          "metadata": {
            "tags": []
          },
          "execution_count": 5
        }
      ]
    },
    {
      "cell_type": "code",
      "metadata": {
        "id": "eBw9ZIni2CbU",
        "colab_type": "code",
        "colab": {},
        "outputId": "c780c048-d9d7-4aaf-e7eb-29f50c963481"
      },
      "source": [
        "print(\"\\t\\t\\t\\t\\t\\tFIVE LAST SAMPLE\")\n",
        "markets.tail()"
      ],
      "execution_count": null,
      "outputs": [
        {
          "output_type": "stream",
          "text": [
            "\t\t\t\t\t\tFIVE LAST SAMPLE\n"
          ],
          "name": "stdout"
        },
        {
          "output_type": "execute_result",
          "data": {
            "text/html": [
              "<div>\n",
              "<style scoped>\n",
              "    .dataframe tbody tr th:only-of-type {\n",
              "        vertical-align: middle;\n",
              "    }\n",
              "\n",
              "    .dataframe tbody tr th {\n",
              "        vertical-align: top;\n",
              "    }\n",
              "\n",
              "    .dataframe thead th {\n",
              "        text-align: right;\n",
              "    }\n",
              "</style>\n",
              "<table border=\"1\" class=\"dataframe\">\n",
              "  <thead>\n",
              "    <tr style=\"text-align: right;\">\n",
              "      <th></th>\n",
              "      <th>time</th>\n",
              "      <th>assetCode</th>\n",
              "      <th>assetName</th>\n",
              "      <th>universe</th>\n",
              "      <th>volume</th>\n",
              "      <th>close</th>\n",
              "      <th>open</th>\n",
              "      <th>returnsClosePrevRaw1</th>\n",
              "      <th>returnsOpenPrevRaw1</th>\n",
              "      <th>returnsClosePrevMktres1</th>\n",
              "      <th>returnsOpenPrevMktres1</th>\n",
              "      <th>returnsClosePrevRaw10</th>\n",
              "      <th>returnsOpenPrevRaw10</th>\n",
              "      <th>returnsClosePrevMktres10</th>\n",
              "      <th>returnsOpenPrevMktres10</th>\n",
              "      <th>returnsOpenNextMktres10</th>\n",
              "    </tr>\n",
              "  </thead>\n",
              "  <tbody>\n",
              "    <tr>\n",
              "      <th>95</th>\n",
              "      <td>2007-01-02 22:00:00+00:00</td>\n",
              "      <td>WF.N</td>\n",
              "      <td>Woori Finance Holdings Co Ltd</td>\n",
              "      <td>0</td>\n",
              "      <td>274400</td>\n",
              "      <td>25.10</td>\n",
              "      <td>24.56</td>\n",
              "      <td>0.023654</td>\n",
              "      <td>0.014876</td>\n",
              "      <td>NaN</td>\n",
              "      <td>NaN</td>\n",
              "      <td>0.038907</td>\n",
              "      <td>-0.004055</td>\n",
              "      <td>NaN</td>\n",
              "      <td>NaN</td>\n",
              "      <td>-0.024102</td>\n",
              "    </tr>\n",
              "    <tr>\n",
              "      <th>96</th>\n",
              "      <td>2007-01-02 22:00:00+00:00</td>\n",
              "      <td>WMT.N</td>\n",
              "      <td>Wal-Mart Stores Inc</td>\n",
              "      <td>1</td>\n",
              "      <td>1164800</td>\n",
              "      <td>37.51</td>\n",
              "      <td>37.99</td>\n",
              "      <td>-0.011594</td>\n",
              "      <td>0.025648</td>\n",
              "      <td>NaN</td>\n",
              "      <td>NaN</td>\n",
              "      <td>0.014332</td>\n",
              "      <td>0.045405</td>\n",
              "      <td>NaN</td>\n",
              "      <td>NaN</td>\n",
              "      <td>0.024433</td>\n",
              "    </tr>\n",
              "    <tr>\n",
              "      <th>97</th>\n",
              "      <td>2007-01-02 22:00:00+00:00</td>\n",
              "      <td>WSH.N</td>\n",
              "      <td>Willis Towers Watson PLC</td>\n",
              "      <td>0</td>\n",
              "      <td>661800</td>\n",
              "      <td>27.97</td>\n",
              "      <td>27.75</td>\n",
              "      <td>0.015245</td>\n",
              "      <td>0.014625</td>\n",
              "      <td>NaN</td>\n",
              "      <td>NaN</td>\n",
              "      <td>0.095574</td>\n",
              "      <td>0.095107</td>\n",
              "      <td>NaN</td>\n",
              "      <td>NaN</td>\n",
              "      <td>0.008433</td>\n",
              "    </tr>\n",
              "    <tr>\n",
              "      <th>98</th>\n",
              "      <td>2007-01-02 22:00:00+00:00</td>\n",
              "      <td>XMSR.O</td>\n",
              "      <td>XM Satellite Radio Holdings Inc</td>\n",
              "      <td>1</td>\n",
              "      <td>1208600</td>\n",
              "      <td>18.02</td>\n",
              "      <td>18.01</td>\n",
              "      <td>0.011791</td>\n",
              "      <td>0.025043</td>\n",
              "      <td>NaN</td>\n",
              "      <td>NaN</td>\n",
              "      <td>0.012929</td>\n",
              "      <td>0.020397</td>\n",
              "      <td>NaN</td>\n",
              "      <td>NaN</td>\n",
              "      <td>-0.017994</td>\n",
              "    </tr>\n",
              "    <tr>\n",
              "      <th>99</th>\n",
              "      <td>2007-01-02 22:00:00+00:00</td>\n",
              "      <td>YHOO.OQ</td>\n",
              "      <td>Yahoo! Inc</td>\n",
              "      <td>1</td>\n",
              "      <td>5692300</td>\n",
              "      <td>52.87</td>\n",
              "      <td>52.50</td>\n",
              "      <td>-0.002453</td>\n",
              "      <td>-0.004739</td>\n",
              "      <td>NaN</td>\n",
              "      <td>NaN</td>\n",
              "      <td>0.001515</td>\n",
              "      <td>-0.004928</td>\n",
              "      <td>NaN</td>\n",
              "      <td>NaN</td>\n",
              "      <td>0.009861</td>\n",
              "    </tr>\n",
              "  </tbody>\n",
              "</table>\n",
              "</div>"
            ],
            "text/plain": [
              "                         time assetCode                        assetName  \\\n",
              "95  2007-01-02 22:00:00+00:00      WF.N    Woori Finance Holdings Co Ltd   \n",
              "96  2007-01-02 22:00:00+00:00     WMT.N              Wal-Mart Stores Inc   \n",
              "97  2007-01-02 22:00:00+00:00     WSH.N         Willis Towers Watson PLC   \n",
              "98  2007-01-02 22:00:00+00:00    XMSR.O  XM Satellite Radio Holdings Inc   \n",
              "99  2007-01-02 22:00:00+00:00   YHOO.OQ                       Yahoo! Inc   \n",
              "\n",
              "    universe   volume  close   open  returnsClosePrevRaw1  \\\n",
              "95         0   274400  25.10  24.56              0.023654   \n",
              "96         1  1164800  37.51  37.99             -0.011594   \n",
              "97         0   661800  27.97  27.75              0.015245   \n",
              "98         1  1208600  18.02  18.01              0.011791   \n",
              "99         1  5692300  52.87  52.50             -0.002453   \n",
              "\n",
              "    returnsOpenPrevRaw1  returnsClosePrevMktres1  returnsOpenPrevMktres1  \\\n",
              "95             0.014876                      NaN                     NaN   \n",
              "96             0.025648                      NaN                     NaN   \n",
              "97             0.014625                      NaN                     NaN   \n",
              "98             0.025043                      NaN                     NaN   \n",
              "99            -0.004739                      NaN                     NaN   \n",
              "\n",
              "    returnsClosePrevRaw10  returnsOpenPrevRaw10  returnsClosePrevMktres10  \\\n",
              "95               0.038907             -0.004055                       NaN   \n",
              "96               0.014332              0.045405                       NaN   \n",
              "97               0.095574              0.095107                       NaN   \n",
              "98               0.012929              0.020397                       NaN   \n",
              "99               0.001515             -0.004928                       NaN   \n",
              "\n",
              "    returnsOpenPrevMktres10  returnsOpenNextMktres10  \n",
              "95                      NaN                -0.024102  \n",
              "96                      NaN                 0.024433  \n",
              "97                      NaN                 0.008433  \n",
              "98                      NaN                -0.017994  \n",
              "99                      NaN                 0.009861  "
            ]
          },
          "metadata": {
            "tags": []
          },
          "execution_count": 6
        }
      ]
    },
    {
      "cell_type": "code",
      "metadata": {
        "id": "vLLTzlXU2Cba",
        "colab_type": "code",
        "colab": {},
        "outputId": "841e2b15-1a13-4c33-b579-05528c8b76a6"
      },
      "source": [
        "#News\n",
        "print(\"News sample: \",news.shape[0])\n",
        "print(\"News feature: \",news.shape[1])"
      ],
      "execution_count": null,
      "outputs": [
        {
          "output_type": "stream",
          "text": [
            "News sample:  100\n",
            "News feature:  35\n"
          ],
          "name": "stdout"
        }
      ]
    },
    {
      "cell_type": "code",
      "metadata": {
        "id": "C_OjtHUV2Cbh",
        "colab_type": "code",
        "colab": {},
        "outputId": "6aa24ce7-9ca1-4744-87b8-e50e1553d638"
      },
      "source": [
        "print(\"\\t\\t\\t\\t\\t\\tFIVE FIRST SAMPLE\")\n",
        "news.head()"
      ],
      "execution_count": null,
      "outputs": [
        {
          "output_type": "stream",
          "text": [
            "\t\t\t\t\t\tFIVE FIRST SAMPLE\n"
          ],
          "name": "stdout"
        },
        {
          "output_type": "execute_result",
          "data": {
            "text/html": [
              "<div>\n",
              "<style scoped>\n",
              "    .dataframe tbody tr th:only-of-type {\n",
              "        vertical-align: middle;\n",
              "    }\n",
              "\n",
              "    .dataframe tbody tr th {\n",
              "        vertical-align: top;\n",
              "    }\n",
              "\n",
              "    .dataframe thead th {\n",
              "        text-align: right;\n",
              "    }\n",
              "</style>\n",
              "<table border=\"1\" class=\"dataframe\">\n",
              "  <thead>\n",
              "    <tr style=\"text-align: right;\">\n",
              "      <th></th>\n",
              "      <th>time</th>\n",
              "      <th>sourceTimestamp</th>\n",
              "      <th>firstCreated</th>\n",
              "      <th>sourceId</th>\n",
              "      <th>headline</th>\n",
              "      <th>urgency</th>\n",
              "      <th>takeSequence</th>\n",
              "      <th>provider</th>\n",
              "      <th>subjects</th>\n",
              "      <th>audiences</th>\n",
              "      <th>...</th>\n",
              "      <th>noveltyCount12H</th>\n",
              "      <th>noveltyCount24H</th>\n",
              "      <th>noveltyCount3D</th>\n",
              "      <th>noveltyCount5D</th>\n",
              "      <th>noveltyCount7D</th>\n",
              "      <th>volumeCounts12H</th>\n",
              "      <th>volumeCounts24H</th>\n",
              "      <th>volumeCounts3D</th>\n",
              "      <th>volumeCounts5D</th>\n",
              "      <th>volumeCounts7D</th>\n",
              "    </tr>\n",
              "  </thead>\n",
              "  <tbody>\n",
              "    <tr>\n",
              "      <th>0</th>\n",
              "      <td>2007-01-01 04:29:32+00:00</td>\n",
              "      <td>2007-01-01 04:29:32+00:00</td>\n",
              "      <td>2007-01-01</td>\n",
              "      <td>e58c6279551b85cf</td>\n",
              "      <td>China's Daqing pumps 43.41 mln tonnes of oil i...</td>\n",
              "      <td>3</td>\n",
              "      <td>1</td>\n",
              "      <td>RTRS</td>\n",
              "      <td>{'CRU', 'CN', 'RTRS', 'ENR', 'LEN', 'EMRG', 'N...</td>\n",
              "      <td>{'O', 'Z', 'OIL'}</td>\n",
              "      <td>...</td>\n",
              "      <td>0</td>\n",
              "      <td>0</td>\n",
              "      <td>0</td>\n",
              "      <td>0</td>\n",
              "      <td>0</td>\n",
              "      <td>0</td>\n",
              "      <td>0</td>\n",
              "      <td>3</td>\n",
              "      <td>6</td>\n",
              "      <td>7</td>\n",
              "    </tr>\n",
              "    <tr>\n",
              "      <th>1</th>\n",
              "      <td>2007-01-01 07:03:35+00:00</td>\n",
              "      <td>2007-01-01 07:03:34+00:00</td>\n",
              "      <td>2007-01-01</td>\n",
              "      <td>5a31c4327427f63f</td>\n",
              "      <td>FEATURE-In kidnapping, finesse works best</td>\n",
              "      <td>3</td>\n",
              "      <td>1</td>\n",
              "      <td>RTRS</td>\n",
              "      <td>{'BD', 'INS', 'LATAM', 'CA', 'US', 'MX', 'IL',...</td>\n",
              "      <td>{'PGE', 'PCU', 'PCO', 'DNP', 'MD', 'E', 'G', '...</td>\n",
              "      <td>...</td>\n",
              "      <td>1</td>\n",
              "      <td>1</td>\n",
              "      <td>1</td>\n",
              "      <td>1</td>\n",
              "      <td>1</td>\n",
              "      <td>1</td>\n",
              "      <td>1</td>\n",
              "      <td>3</td>\n",
              "      <td>3</td>\n",
              "      <td>3</td>\n",
              "    </tr>\n",
              "    <tr>\n",
              "      <th>2</th>\n",
              "      <td>2007-01-01 11:29:56+00:00</td>\n",
              "      <td>2007-01-01 11:29:56+00:00</td>\n",
              "      <td>2007-01-01</td>\n",
              "      <td>1cefd27a40fabdfe</td>\n",
              "      <td>PRESS DIGEST - Wall Street Journal - Jan 1</td>\n",
              "      <td>3</td>\n",
              "      <td>1</td>\n",
              "      <td>RTRS</td>\n",
              "      <td>{'IQ', 'RO', 'US', 'ID', 'RET', 'RTRS', 'ENR',...</td>\n",
              "      <td>{'M', 'PMF', 'DNP', 'PTD', 'T', 'E', 'D', 'PSC...</td>\n",
              "      <td>...</td>\n",
              "      <td>0</td>\n",
              "      <td>0</td>\n",
              "      <td>0</td>\n",
              "      <td>0</td>\n",
              "      <td>0</td>\n",
              "      <td>0</td>\n",
              "      <td>0</td>\n",
              "      <td>5</td>\n",
              "      <td>11</td>\n",
              "      <td>17</td>\n",
              "    </tr>\n",
              "    <tr>\n",
              "      <th>3</th>\n",
              "      <td>2007-01-01 12:08:37+00:00</td>\n",
              "      <td>2007-01-01 12:08:37+00:00</td>\n",
              "      <td>2007-01-01</td>\n",
              "      <td>23768af19dc69992</td>\n",
              "      <td>PRESS DIGEST - New York Times - Jan 1</td>\n",
              "      <td>3</td>\n",
              "      <td>1</td>\n",
              "      <td>RTRS</td>\n",
              "      <td>{'PUB', 'BUS', 'INS', 'CA', 'ENT', 'US', 'FIN'...</td>\n",
              "      <td>{'M', 'PMF', 'DNP', 'PTD', 'T', 'E', 'D', 'PSC...</td>\n",
              "      <td>...</td>\n",
              "      <td>0</td>\n",
              "      <td>0</td>\n",
              "      <td>0</td>\n",
              "      <td>0</td>\n",
              "      <td>0</td>\n",
              "      <td>0</td>\n",
              "      <td>0</td>\n",
              "      <td>5</td>\n",
              "      <td>13</td>\n",
              "      <td>15</td>\n",
              "    </tr>\n",
              "    <tr>\n",
              "      <th>4</th>\n",
              "      <td>2007-01-01 12:08:37+00:00</td>\n",
              "      <td>2007-01-01 12:08:37+00:00</td>\n",
              "      <td>2007-01-01</td>\n",
              "      <td>23768af19dc69992</td>\n",
              "      <td>PRESS DIGEST - New York Times - Jan 1</td>\n",
              "      <td>3</td>\n",
              "      <td>1</td>\n",
              "      <td>RTRS</td>\n",
              "      <td>{'PUB', 'BUS', 'INS', 'CA', 'ENT', 'US', 'FIN'...</td>\n",
              "      <td>{'M', 'PMF', 'DNP', 'PTD', 'T', 'E', 'D', 'PSC...</td>\n",
              "      <td>...</td>\n",
              "      <td>0</td>\n",
              "      <td>0</td>\n",
              "      <td>0</td>\n",
              "      <td>0</td>\n",
              "      <td>0</td>\n",
              "      <td>0</td>\n",
              "      <td>0</td>\n",
              "      <td>0</td>\n",
              "      <td>0</td>\n",
              "      <td>0</td>\n",
              "    </tr>\n",
              "  </tbody>\n",
              "</table>\n",
              "<p>5 rows × 35 columns</p>\n",
              "</div>"
            ],
            "text/plain": [
              "                        time            sourceTimestamp firstCreated  \\\n",
              "0  2007-01-01 04:29:32+00:00  2007-01-01 04:29:32+00:00   2007-01-01   \n",
              "1  2007-01-01 07:03:35+00:00  2007-01-01 07:03:34+00:00   2007-01-01   \n",
              "2  2007-01-01 11:29:56+00:00  2007-01-01 11:29:56+00:00   2007-01-01   \n",
              "3  2007-01-01 12:08:37+00:00  2007-01-01 12:08:37+00:00   2007-01-01   \n",
              "4  2007-01-01 12:08:37+00:00  2007-01-01 12:08:37+00:00   2007-01-01   \n",
              "\n",
              "           sourceId                                           headline  \\\n",
              "0  e58c6279551b85cf  China's Daqing pumps 43.41 mln tonnes of oil i...   \n",
              "1  5a31c4327427f63f          FEATURE-In kidnapping, finesse works best   \n",
              "2  1cefd27a40fabdfe         PRESS DIGEST - Wall Street Journal - Jan 1   \n",
              "3  23768af19dc69992              PRESS DIGEST - New York Times - Jan 1   \n",
              "4  23768af19dc69992              PRESS DIGEST - New York Times - Jan 1   \n",
              "\n",
              "   urgency  takeSequence provider  \\\n",
              "0        3             1     RTRS   \n",
              "1        3             1     RTRS   \n",
              "2        3             1     RTRS   \n",
              "3        3             1     RTRS   \n",
              "4        3             1     RTRS   \n",
              "\n",
              "                                            subjects  \\\n",
              "0  {'CRU', 'CN', 'RTRS', 'ENR', 'LEN', 'EMRG', 'N...   \n",
              "1  {'BD', 'INS', 'LATAM', 'CA', 'US', 'MX', 'IL',...   \n",
              "2  {'IQ', 'RO', 'US', 'ID', 'RET', 'RTRS', 'ENR',...   \n",
              "3  {'PUB', 'BUS', 'INS', 'CA', 'ENT', 'US', 'FIN'...   \n",
              "4  {'PUB', 'BUS', 'INS', 'CA', 'ENT', 'US', 'FIN'...   \n",
              "\n",
              "                                           audiences  ...  noveltyCount12H  \\\n",
              "0                                  {'O', 'Z', 'OIL'}  ...                0   \n",
              "1  {'PGE', 'PCU', 'PCO', 'DNP', 'MD', 'E', 'G', '...  ...                1   \n",
              "2  {'M', 'PMF', 'DNP', 'PTD', 'T', 'E', 'D', 'PSC...  ...                0   \n",
              "3  {'M', 'PMF', 'DNP', 'PTD', 'T', 'E', 'D', 'PSC...  ...                0   \n",
              "4  {'M', 'PMF', 'DNP', 'PTD', 'T', 'E', 'D', 'PSC...  ...                0   \n",
              "\n",
              "   noveltyCount24H noveltyCount3D  noveltyCount5D  noveltyCount7D  \\\n",
              "0                0              0               0               0   \n",
              "1                1              1               1               1   \n",
              "2                0              0               0               0   \n",
              "3                0              0               0               0   \n",
              "4                0              0               0               0   \n",
              "\n",
              "   volumeCounts12H volumeCounts24H volumeCounts3D  volumeCounts5D  \\\n",
              "0                0               0              3               6   \n",
              "1                1               1              3               3   \n",
              "2                0               0              5              11   \n",
              "3                0               0              5              13   \n",
              "4                0               0              0               0   \n",
              "\n",
              "   volumeCounts7D  \n",
              "0               7  \n",
              "1               3  \n",
              "2              17  \n",
              "3              15  \n",
              "4               0  \n",
              "\n",
              "[5 rows x 35 columns]"
            ]
          },
          "metadata": {
            "tags": []
          },
          "execution_count": 53
        }
      ]
    },
    {
      "cell_type": "code",
      "metadata": {
        "id": "PXYlzfNS2Cbw",
        "colab_type": "code",
        "colab": {},
        "outputId": "e04e2d43-0ced-4786-ee24-a7c86a0d8952"
      },
      "source": [
        "print(\"\\t\\t\\t\\t\\t\\tFIVE LAST SAMPLE\")\n",
        "news.tail()"
      ],
      "execution_count": null,
      "outputs": [
        {
          "output_type": "stream",
          "text": [
            "\t\t\t\t\t\tFIVE LAST SAMPLE\n"
          ],
          "name": "stdout"
        },
        {
          "output_type": "execute_result",
          "data": {
            "text/plain": [
              "0     {'PTR.N', '0857.F', '0857.DE', '0857.HK'}\n",
              "1                                     {'STA.N'}\n",
              "2                           {'WMT.N', 'WMT.DE'}\n",
              "3             {'GOOG.O', 'GOOG.OQ', 'GOOGa.DE'}\n",
              "4                                    {'XMSR.O'}\n",
              "                        ...                    \n",
              "95      {'AIB.N', 'ALBK.L', 'ALBK.I', 'ALBK.F'}\n",
              "96                            {'NGG.N', 'NG.L'}\n",
              "97                            {'NGG.N', 'NG.L'}\n",
              "98                {'SAN.MC', 'STD.BA', 'STD.N'}\n",
              "99                                    {'BEN.N'}\n",
              "Name: assetCodes, Length: 100, dtype: object"
            ]
          },
          "metadata": {
            "tags": []
          },
          "execution_count": 3
        }
      ]
    },
    {
      "cell_type": "markdown",
      "metadata": {
        "id": "Oev97wby2Cb6",
        "colab_type": "text"
      },
      "source": [
        "Bước 4: Tiền xử lý dữ liệu trên bộ news"
      ]
    },
    {
      "cell_type": "code",
      "metadata": {
        "id": "-IdedC8C2Cb7",
        "colab_type": "code",
        "colab": {}
      },
      "source": [
        "#Lay cac cot co gia tri anh huong\n",
        "news_columns = ['assetCodes', 'firstCreated', 'wordCount', 'sentenceCount', \n",
        "                   'firstMentionSentence', 'sentimentClass',\n",
        "                   'sentimentNegative', 'sentimentNeutral', 'sentimentPositive',\n",
        "                   'sentimentWordCount']\n"
      ],
      "execution_count": null,
      "outputs": []
    },
    {
      "cell_type": "markdown",
      "metadata": {
        "id": "hODz2HB82CcC",
        "colab_type": "text"
      },
      "source": [
        "4.1: Xây dựng hàm unstack_asset_codes\n",
        "    + Tách các mã cổ phiếu từ các chuỗi cổ phiếu ở mỗi điểm dữ liệu (assetCode)\n",
        "    + Gán index cho mỗi mã cổ phiếu( sau khi tách) sao cho index(mã cổ phiếu)=index(chuỗi mã cổ phiếu có chứa mã đó) (news_index)\n",
        "    + Tạo 1 list cho 2 thuộc tính news_index và assetCode (Dataframe: index_df)"
      ]
    },
    {
      "cell_type": "code",
      "metadata": {
        "id": "LSLbJ6U02CcE",
        "colab_type": "code",
        "colab": {}
      },
      "source": [
        "def unstack_asset_codes(news_df):\n",
        "    codes = []\n",
        "    indexes = []\n",
        "    for i, values in news_df['assetCodes'].iteritems():\n",
        "        explode = values.replace('\\'', '').replace('}', '').replace('{', '').split(\", \")\n",
        "        codes.extend(explode)\n",
        "        repeat_index = [int(i)]*len(explode)\n",
        "        indexes.extend(repeat_index)\n",
        "    index_df = pd.DataFrame({'news_index': indexes, 'assetCode': codes})\n",
        "    del codes, indexes \n",
        "    return index_df"
      ],
      "execution_count": null,
      "outputs": []
    },
    {
      "cell_type": "markdown",
      "metadata": {
        "id": "ee85EHoN2CcJ",
        "colab_type": "text"
      },
      "source": [
        "4.2: Xây dựng hàm merge_news_on_index\n",
        "    + News: thêm một cột news_index chứa thông tin index của bộ news\n",
        "    + Kết trái index_df với news theo thuộc tính news_index\n",
        "    + Bỏ đi 2 cột assetCodes và news_index"
      ]
    },
    {
      "cell_type": "code",
      "metadata": {
        "id": "-vz9qBL_2CcK",
        "colab_type": "code",
        "colab": {}
      },
      "source": [
        "def merge_news_on_index(news_df, index_df):\n",
        "    news_df['news_index'] = news_df.index.copy()\n",
        "\n",
        "    # Merge news on unstacked assets\n",
        "    news_unstack = index_df.merge(news_df, how='left', on='news_index')\n",
        "    news_unstack.drop(['news_index', 'assetCodes'], axis=1, inplace=True)\n",
        "    return news_unstack"
      ],
      "execution_count": null,
      "outputs": []
    },
    {
      "cell_type": "markdown",
      "metadata": {
        "id": "Nc-7A1Om2CcP",
        "colab_type": "text"
      },
      "source": [
        "4.3: Xây dựng hàm handle_news_df\n",
        "    + Cập nhật lại news với những cột cần thiết\n",
        "    + Thực hiện unstack_asset_codes và merge_news_on_index"
      ]
    },
    {
      "cell_type": "code",
      "metadata": {
        "id": "xokauXJu2CcQ",
        "colab_type": "code",
        "colab": {}
      },
      "source": [
        "def handle_news_df(news_df):\n",
        "    news_df = news_df[news_columns]\n",
        "    index_df = unstack_asset_codes(news_df)\n",
        "    news_df = merge_news_on_index(news_df, index_df)\n",
        "    news_df = news_df.groupby(['firstCreated', 'assetCode'], as_index=False).mean()\n",
        "    del index_df\n",
        "    return news_df"
      ],
      "execution_count": null,
      "outputs": []
    },
    {
      "cell_type": "markdown",
      "metadata": {
        "id": "0hKKFTk92CcW",
        "colab_type": "text"
      },
      "source": [
        "4.4: Xây dựng hàm mis_impute\n",
        "    + Những cột nào có type là object thì sẽ skip\n",
        "    + Những cột nào có type là sô thì sẽ tính giá trị mean của cột đó"
      ]
    },
    {
      "cell_type": "code",
      "metadata": {
        "id": "0xCPjbyN2CcW",
        "colab_type": "code",
        "colab": {}
      },
      "source": [
        "def mis_impute(data):\n",
        "    for i in data.columns:\n",
        "        if data[i].dtype == \"object\":\n",
        "            data[i] = data[i].fillna(\"other\")\n",
        "        elif (data[i].dtype == \"int64\" or data[i].dtype == \"float64\"):\n",
        "            data[i] = data[i].fillna(data[i].mean())\n",
        "        else:\n",
        "            pass\n",
        "    return data"
      ],
      "execution_count": null,
      "outputs": []
    },
    {
      "cell_type": "markdown",
      "metadata": {
        "id": "GppwC1E42Ccb",
        "colab_type": "text"
      },
      "source": [
        "4.5. Xây dựng hàm data_preprocessing_for_training \n",
        "    + Định dạng là 2 thuộc tính time và firstCreated về dạng ngày tháng năm\n",
        "    + Thực hiện hàm handle_news\n",
        "    + Kết 2 bộ dữ liệu news sau khi thực hiện handle_news với market theo trường dữ liệu assetCodes, time và firstCreated\n",
        "    + Tạo label(output)\n",
        "    + Tính toán lại dữ liệu với hàm mis_impute"
      ]
    },
    {
      "cell_type": "code",
      "metadata": {
        "id": "EBZATWsd2Ccc",
        "colab_type": "code",
        "colab": {}
      },
      "source": [
        "def data_preprocessing_for_training(market_df, news_df):\n",
        "    market_df['time'] = pd.to_datetime(market_df['time'], errors='coerce',utc=True)\n",
        "    market_df['time']=market_df['time'].dt.date\n",
        "    news_df['firstCreated'] = pd.to_datetime(news_df['firstCreated'], errors='coerce',utc=True)\n",
        "    news_df['firstCreated']=news_df['firstCreated'].dt.date\n",
        "    news_df = handle_news_df(news_df)\n",
        "    full_df = pd.merge(market_df, news_df, how='left', left_on=['time', 'assetCode'], \n",
        "                            right_on=['firstCreated', 'assetCode'])\n",
        "    label = full_df.returnsOpenNextMktres10 >= 0\n",
        "    full_df = full_df.drop(['assetCode', 'time', 'firstCreated','assetName', 'universe', 'returnsOpenNextMktres10'], axis=1)\n",
        "    full_df = mis_impute(full_df)\n",
        "    return full_df, label"
      ],
      "execution_count": null,
      "outputs": []
    },
    {
      "cell_type": "markdown",
      "metadata": {
        "id": "whxzhCkL2Cci",
        "colab_type": "text"
      },
      "source": [
        "Bước 5: Huấn luyện mô hình"
      ]
    },
    {
      "cell_type": "code",
      "metadata": {
        "id": "7-3YGKfc2Cck",
        "colab_type": "code",
        "colab": {
          "base_uri": "https://localhost:8080/",
          "height": 115
        },
        "outputId": "507bbc8d-7482-4884-a0f9-5cae08e5fb76"
      },
      "source": [
        "X, label=data_preprocessing_for_training(markets, news)\n",
        "X=X.drop(['returnsClosePrevMktres1','returnsOpenPrevMktres1','returnsClosePrevMktres10','returnsOpenPrevMktres10'],axis=1)"
      ],
      "execution_count": null,
      "outputs": [
        {
          "output_type": "stream",
          "text": [
            "/usr/local/lib/python3.6/dist-packages/ipykernel_launcher.py:2: SettingWithCopyWarning: \n",
            "A value is trying to be set on a copy of a slice from a DataFrame.\n",
            "Try using .loc[row_indexer,col_indexer] = value instead\n",
            "\n",
            "See the caveats in the documentation: https://pandas.pydata.org/pandas-docs/stable/user_guide/indexing.html#returning-a-view-versus-a-copy\n",
            "  \n"
          ],
          "name": "stderr"
        }
      ]
    },
    {
      "cell_type": "code",
      "metadata": {
        "id": "0XVCKmYr2Ccp",
        "colab_type": "code",
        "colab": {}
      },
      "source": [
        "mins = np.min(X, axis=0)\n",
        "maxs = np.max(X, axis=0)\n",
        "rng = maxs - mins\n",
        "X = 1 - ((maxs - X) / rng)"
      ],
      "execution_count": null,
      "outputs": []
    },
    {
      "cell_type": "code",
      "metadata": {
        "id": "-qjMFfEV2Ccu",
        "colab_type": "code",
        "colab": {
          "base_uri": "https://localhost:8080/",
          "height": 1000
        },
        "outputId": "1746911b-b712-4f09-b7c1-e140588d299e"
      },
      "source": [
        "from sklearn.neighbors import KNeighborsClassifier as KNN\n",
        "from sklearn.model_selection import train_test_split as tts\n",
        "plt.figure()\n",
        "for i in range(1,10):\n",
        "    plt.figure(figsize=(45,12))\n",
        "    plt.subplot(1,9,i)\n",
        "    for k in np.arange(0.1,1,0.1):\n",
        "        X_train,X_test,label_train,label_test=tts(X,label,train_size=k,random_state=0)\n",
        "        cl=KNN(n_neighbors=i)\n",
        "        cl.fit(X_train,label_train)       \n",
        "        accuracy=cl.score(X_test,label_test)\n",
        "        plt.scatter(k,accuracy,color='blue')\n",
        "        n='KNN with n_neighbors= '+str(i)\n",
        "        plt.title(n)\n",
        "        "
      ],
      "execution_count": null,
      "outputs": [
        {
          "output_type": "display_data",
          "data": {
            "text/plain": [
              "<Figure size 432x288 with 0 Axes>"
            ]
          },
          "metadata": {
            "tags": []
          }
        },
        {
          "output_type": "display_data",
          "data": {
            "image/png": "[encoded data removed]",
            "text/plain": [
              "<Figure size 3240x864 with 1 Axes>"
            ]
          },
          "metadata": {
            "tags": [],
            "needs_background": "light"
          }
        },
        {
          "output_type": "display_data",
          "data": {
            "image/png": "[encoded data removed]",
            "text/plain": [
              "<Figure size 3240x864 with 1 Axes>"
            ]
          },
          "metadata": {
            "tags": [],
            "needs_background": "light"
          }
        },
        {
          "output_type": "display_data",
          "data": {
            "image/png": "[encoded data removed]",
            "text/plain": [
              "<Figure size 3240x864 with 1 Axes>"
            ]
          },
          "metadata": {
            "tags": [],
            "needs_background": "light"
          }
        },
        {
          "output_type": "display_data",
          "data": {
            "image/png": "[encoded data removed]",
            "text/plain": [
              "<Figure size 3240x864 with 1 Axes>"
            ]
          },
          "metadata": {
            "tags": [],
            "needs_background": "light"
          }
        },
        {
          "output_type": "display_data",
          "data": {
            "image/png": "[encoded data removed]",
            "text/plain": [
              "<Figure size 3240x864 with 1 Axes>"
            ]
          },
          "metadata": {
            "tags": [],
            "needs_background": "light"
          }
        },
        {
          "output_type": "display_data",
          "data": {
            "image/png": "[encoded data removed]",
            "text/plain": [
              "<Figure size 3240x864 with 1 Axes>"
            ]
          },
          "metadata": {
            "tags": [],
            "needs_background": "light"
          }
        },
        {
          "output_type": "display_data",
          "data": {
            "image/png": "[encoded data removed]",
            "text/plain": [
              "<Figure size 3240x864 with 1 Axes>"
            ]
          },
          "metadata": {
            "tags": [],
            "needs_background": "light"
          }
        },
        {
          "output_type": "display_data",
          "data": {
            "image/png": "[encoded data removed]",
            "text/plain": [
              "<Figure size 3240x864 with 1 Axes>"
            ]
          },
          "metadata": {
            "tags": [],
            "needs_background": "light"
          }
        },
        {
          "output_type": "display_data",
          "data": {
            "image/png": "[encoded data removed]",
            "text/plain": [
              "<Figure size 3240x864 with 1 Axes>"
            ]
          },
          "metadata": {
            "tags": [],
            "needs_background": "light"
          }
        }
      ]
    },
    {
      "cell_type": "code",
      "metadata": {
        "id": "JI3FrkDA2Ccy",
        "colab_type": "code",
        "colab": {
          "base_uri": "https://localhost:8080/",
          "height": 66
        },
        "outputId": "2bcbefe1-1710-4291-9627-168cfaef24e4"
      },
      "source": [
        "X_train,X_test,label_train,label_test=tts(X,label,train_size=0.9,random_state=0)\n",
        "cl=KNN(n_neighbors=4)\n",
        "cl.fit(X_train,label_train)"
      ],
      "execution_count": null,
      "outputs": [
        {
          "output_type": "execute_result",
          "data": {
            "text/plain": [
              "KNeighborsClassifier(algorithm='auto', leaf_size=30, metric='minkowski',\n",
              "                     metric_params=None, n_jobs=None, n_neighbors=4, p=2,\n",
              "                     weights='uniform')"
            ]
          },
          "metadata": {
            "tags": []
          },
          "execution_count": 19
        }
      ]
    },
    {
      "cell_type": "code",
      "metadata": {
        "id": "DRPDNDlF2Cc4",
        "colab_type": "code",
        "colab": {
          "base_uri": "https://localhost:8080/",
          "height": 295
        },
        "outputId": "522e70cc-0ce3-46bd-bf4a-11aaadbbf508"
      },
      "source": [
        "from sklearn.metrics import plot_confusion_matrix as pcm\n",
        "pcm(cl,X_train,label_train)\n",
        "cl.score(X_train,label_train)\n"
      ],
      "execution_count": null,
      "outputs": [
        {
          "output_type": "execute_result",
          "data": {
            "text/plain": [
              "0.7222222222222222"
            ]
          },
          "metadata": {
            "tags": []
          },
          "execution_count": 20
        },
        {
          "output_type": "display_data",
          "data": {
            "image/png": "[encoded data removed]",
            "text/plain": [
              "<Figure size 432x288 with 2 Axes>"
            ]
          },
          "metadata": {
            "tags": [],
            "needs_background": "light"
          }
        }
      ]
    },
    {
      "cell_type": "code",
      "metadata": {
        "id": "TDVuciR92CdB",
        "colab_type": "code",
        "colab": {
          "base_uri": "https://localhost:8080/",
          "height": 298
        },
        "outputId": "c4be39a4-d8d2-4494-dc17-1996ce998eab"
      },
      "source": [
        "pcm(cl,X_test,label_test)\n",
        "cl.score(X_test,label_test)"
      ],
      "execution_count": null,
      "outputs": [
        {
          "output_type": "execute_result",
          "data": {
            "text/plain": [
              "0.8"
            ]
          },
          "metadata": {
            "tags": []
          },
          "execution_count": 21
        },
        {
          "output_type": "display_data",
          "data": {
            "image/png": "[encoded data removed]",
            "text/plain": [
              "<Figure size 432x288 with 2 Axes>"
            ]
          },
          "metadata": {
            "tags": [],
            "needs_background": "light"
          }
        }
      ]
    },
    {
      "cell_type": "code",
      "metadata": {
        "id": "Rb8ptWR53StH",
        "colab_type": "code",
        "colab": {
          "base_uri": "https://localhost:8080/",
          "height": 98
        },
        "outputId": "3faa5bf2-8938-4f03-ac6f-42dee26f68f7"
      },
      "source": [
        "from sklearn.linear_model import LogisticRegression\n",
        "classifier = LogisticRegression(random_state = 0)\n",
        "classifier.fit(X_train, label_train)"
      ],
      "execution_count": null,
      "outputs": [
        {
          "output_type": "execute_result",
          "data": {
            "text/plain": [
              "LogisticRegression(C=1.0, class_weight=None, dual=False, fit_intercept=True,\n",
              "                   intercept_scaling=1, l1_ratio=None, max_iter=100,\n",
              "                   multi_class='auto', n_jobs=None, penalty='l2',\n",
              "                   random_state=0, solver='lbfgs', tol=0.0001, verbose=0,\n",
              "                   warm_start=False)"
            ]
          },
          "metadata": {
            "tags": []
          },
          "execution_count": 24
        }
      ]
    },
    {
      "cell_type": "code",
      "metadata": {
        "id": "aAKC3T-n3UB-",
        "colab_type": "code",
        "colab": {
          "base_uri": "https://localhost:8080/",
          "height": 295
        },
        "outputId": "a690fbe7-8cba-4750-90fc-ce63fcef5ed9"
      },
      "source": [
        "pcm(classifier,X_train,label_train)\n",
        "classifier.score(X_train,label_train)"
      ],
      "execution_count": null,
      "outputs": [
        {
          "output_type": "execute_result",
          "data": {
            "text/plain": [
              "0.6777777777777778"
            ]
          },
          "metadata": {
            "tags": []
          },
          "execution_count": 25
        },
        {
          "output_type": "display_data",
          "data": {
            "image/png": "[encoded data removed]",
            "text/plain": [
              "<Figure size 432x288 with 2 Axes>"
            ]
          },
          "metadata": {
            "tags": [],
            "needs_background": "light"
          }
        }
      ]
    },
    {
      "cell_type": "code",
      "metadata": {
        "id": "_GruYw5R56zV",
        "colab_type": "code",
        "colab": {
          "base_uri": "https://localhost:8080/",
          "height": 298
        },
        "outputId": "6579997f-1565-43b5-8bd0-4c01f5474c81"
      },
      "source": [
        "pcm(classifier,X_test,label_test)\n",
        "classifier.score(X_test,label_test)"
      ],
      "execution_count": null,
      "outputs": [
        {
          "output_type": "execute_result",
          "data": {
            "text/plain": [
              "0.7"
            ]
          },
          "metadata": {
            "tags": []
          },
          "execution_count": 26
        },
        {
          "output_type": "display_data",
          "data": {
            "image/png": "[encoded data removed]",
            "text/plain": [
              "<Figure size 432x288 with 2 Axes>"
            ]
          },
          "metadata": {
            "tags": [],
            "needs_background": "light"
          }
        }
      ]
    }
  ]
}